{
 "cells": [
  {
   "cell_type": "code",
   "execution_count": 37,
   "metadata": {},
   "outputs": [
    {
     "name": "stdout",
     "output_type": "stream",
     "text": [
      "         0   \n",
      "0        1  \\\n",
      "1        8   \n",
      "2       14   \n",
      "3       23   \n",
      "4       25   \n",
      "...    ...   \n",
      "2953  8026   \n",
      "2954  8027   \n",
      "2955  8032   \n",
      "2956  8035   \n",
      "2957  8036   \n",
      "\n",
      "     2382 3026 230 3652 4422 3829 1712 2740 3667 1521 4122 1505 3832 2935 4275 4001 1540 3452 3972 2131 2987 2777 3291 4670 4481 1616 375 3197 2577 1886 3831 1073 1835  \n",
      "0                                                  2519                                                                                                                  \n",
      "1             2153 2956 2573 501 467 3543 3787 284 3567                                                                                                                  \n",
      "2     3511 1892 4557 3831 3747 1610 522 1578 3403 42...                                                                                                                  \n",
      "3     893 2697 1540 2092 3534 1285 2920 2305 4422 47...                                                                                                                  \n",
      "4                     1735 3615 4542 3197 2881 893 2251                                                                                                                  \n",
      "...                                                 ...                                                                                                                  \n",
      "2953                                          1386 4467                                                                                                                  \n",
      "2954  1803 3740 4223 2039 1578 3401 1502 3432 1381 2...                                                                                                                  \n",
      "2955  3102 1236 3522 3698 1169 434 91 2577 1556 2351...                                                                                                                  \n",
      "2956  3444 4514 3546 2825 4611 398 3947 1113 1110 23...                                                                                                                  \n",
      "2957  2092 1954 4519 2469 4392 1624 4009 2920 24 387...                                                                                                                  \n",
      "\n",
      "[2958 rows x 2 columns]\n"
     ]
    }
   ],
   "source": [
    "import pandas as pd\n",
    "\n",
    "df = pd.read_csv('train.txt',sep ='\\t', index_col=None)\n",
    "print(df)\n",
    "# df = pd.read_csv('your_file.txt', sep='\\t', quoting=csv.QUOTE_NONE)\n",
    "df.to_csv('train_tmp.txt', sep=' ',index=False)"
   ]
  },
  {
   "cell_type": "code",
   "execution_count": 36,
   "metadata": {},
   "outputs": [],
   "source": [
    "# Save the DataFrame to a text file with space as separator and no quotes\n",
    "\n",
    "with open('test_tmp.txt', 'r') as file:\n",
    "    # Read lines from the file and remove quotes\n",
    "    lines = [line.replace('\"', '') for line in file]\n",
    "\n",
    "# Open the same file in write mode to overwrite its contents\n",
    "with open('test_tmp.txt', 'w') as file:\n",
    "    # Write the modified lines back to the file\n",
    "    file.writelines(lines)"
   ]
  },
  {
   "cell_type": "code",
   "execution_count": 38,
   "metadata": {},
   "outputs": [],
   "source": [
    "# Save the DataFrame to a text file with space as separator and no quotes\n",
    "\n",
    "with open('train_tmp.txt', 'r') as file:\n",
    "    # Read lines from the file and remove quotes\n",
    "    lines = [line.replace('\"', '') for line in file]\n",
    "\n",
    "# Open the same file in write mode to overwrite its contents\n",
    "with open('train_tmp.txt', 'w') as file:\n",
    "    # Write the modified lines back to the file\n",
    "    file.writelines(lines)"
   ]
  },
  {
   "cell_type": "code",
   "execution_count": null,
   "metadata": {},
   "outputs": [],
   "source": []
  }
 ],
 "metadata": {
  "kernelspec": {
   "display_name": "Python 3",
   "language": "python",
   "name": "python3"
  },
  "language_info": {
   "codemirror_mode": {
    "name": "ipython",
    "version": 3
   },
   "file_extension": ".py",
   "mimetype": "text/x-python",
   "name": "python",
   "nbconvert_exporter": "python",
   "pygments_lexer": "ipython3",
   "version": "3.11.3"
  }
 },
 "nbformat": 4,
 "nbformat_minor": 2
}
